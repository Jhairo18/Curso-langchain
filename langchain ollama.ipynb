{
 "cells": [
  {
   "cell_type": "code",
   "execution_count": 1,
   "id": "25ef4ada",
   "metadata": {},
   "outputs": [],
   "source": [
    "import ollama\n",
    "from langchain_community.llms.ollama import Ollama"
   ]
  },
  {
   "cell_type": "code",
   "execution_count": 2,
   "id": "13ee5d34",
   "metadata": {},
   "outputs": [
    {
     "name": "stderr",
     "output_type": "stream",
     "text": [
      "C:\\Users\\Hp\\AppData\\Local\\Temp\\ipykernel_3868\\3885779912.py:1: LangChainDeprecationWarning: The class `Ollama` was deprecated in LangChain 0.3.1 and will be removed in 1.0.0. An updated version of the class exists in the :class:`~langchain-ollama package and should be used instead. To use it run `pip install -U :class:`~langchain-ollama` and import as `from :class:`~langchain_ollama import OllamaLLM``.\n",
      "  llm = Ollama(model=\"llama3.2\",temperature=0.7)\n"
     ]
    }
   ],
   "source": [
    "llm = Ollama(model=\"llama3.2\",temperature=0.7)"
   ]
  },
  {
   "cell_type": "code",
   "execution_count": 4,
   "id": "86be8ce7",
   "metadata": {},
   "outputs": [
    {
     "data": {
      "text/plain": [
       "'¡hola! ¿En qué puedo ayudarte hoy?'"
      ]
     },
     "execution_count": 4,
     "metadata": {},
     "output_type": "execute_result"
    }
   ],
   "source": [
    "llm.invoke(\"Hola\")"
   ]
  },
  {
   "cell_type": "code",
   "execution_count": 41,
   "id": "90d1224f",
   "metadata": {},
   "outputs": [],
   "source": [
    "from langchain.text_splitter import CharacterTextSplitter\n",
    "from langchain.document_loaders import PyPDFLoader\n",
    "from langchain_community.vectorstores import Chroma\n",
    "from langchain_community.embeddings import OllamaEmbeddings\n",
    "from langchain_core.output_parsers import StrOutputParser\n",
    "from langchain_core.runnables import RunnablePassthrough\n",
    "from langchain.document_loaders import PyPDFLoader\n",
    "from langchain_ollama import ChatOllama\n",
    "from langchain.prompts import ChatPromptTemplate, PromptTemplate\n",
    "import ollama\n"
   ]
  },
  {
   "cell_type": "code",
   "execution_count": 6,
   "id": "73b4fd26",
   "metadata": {},
   "outputs": [],
   "source": [
    "loader = PyPDFLoader(\"files/brochure.pdf\")\n",
    "paginas = loader.load()"
   ]
  },
  {
   "cell_type": "code",
   "execution_count": 7,
   "id": "09cfa9d8",
   "metadata": {},
   "outputs": [
    {
     "data": {
      "text/plain": [
       "9"
      ]
     },
     "execution_count": 7,
     "metadata": {},
     "output_type": "execute_result"
    }
   ],
   "source": [
    "len(paginas)"
   ]
  },
  {
   "cell_type": "code",
   "execution_count": 8,
   "id": "749f5af9",
   "metadata": {},
   "outputs": [
    {
     "data": {
      "text/plain": [
       "'Las herramientas basadas sobre Machine \\nLearning han tomado fuerza desde hace varios \\naños, impulsadas principalmente por el desarrollo \\nde la computación, lo cual ha permitido mejorar \\nlos tiempos de cómputo y generar cada vez más \\ndatos para ser analizados; al mismo tiempo que \\nhan mostrado alcanzar mejores resultados en \\ncomparación con otras opciones. Por ese \\nmotivo, este curso-taller hará una revisión sobre \\nqué es Machine Learning, así como cuál es su \\nrelación y diferencia con otros conceptos \\nsimilares; los cuales tienden a confundirse. \\nPosteriormente se revisarán los modelos más \\nutilizados en la industria, identificando sus \\nventajas y limitaciones, como su correcta forma \\nde ser utilizados, reconociendo las situaciones \\ndonde podría ser aplicado.\\nINFORMACIÓN \\nDEL CURSO\\n2'"
      ]
     },
     "execution_count": 8,
     "metadata": {},
     "output_type": "execute_result"
    }
   ],
   "source": [
    "paginas[1].page_content"
   ]
  },
  {
   "cell_type": "code",
   "execution_count": 9,
   "id": "a19acacd",
   "metadata": {},
   "outputs": [],
   "source": [
    "text_splitter = CharacterTextSplitter(\n",
    "    chunk_size=250,\n",
    "    chunk_overlap=80,\n",
    "    separator=\"\\n\",\n",
    "    length_function=len,\n",
    ")"
   ]
  },
  {
   "cell_type": "code",
   "execution_count": 10,
   "id": "e502cd45",
   "metadata": {},
   "outputs": [],
   "source": [
    "docs = text_splitter.split_documents(paginas)"
   ]
  },
  {
   "cell_type": "code",
   "execution_count": 11,
   "id": "67aa36d5",
   "metadata": {},
   "outputs": [
    {
     "data": {
      "text/plain": [
       "23"
      ]
     },
     "execution_count": 11,
     "metadata": {},
     "output_type": "execute_result"
    }
   ],
   "source": [
    "len(docs)"
   ]
  },
  {
   "cell_type": "code",
   "execution_count": 12,
   "id": "6fac1d5e",
   "metadata": {},
   "outputs": [
    {
     "name": "stdout",
     "output_type": "stream",
     "text": [
      "2021\n",
      "Curso de Capacitación:\n",
      "MACHINE LEARNING PARA\n",
      "LA INDUSTRIA\n",
      "----\n",
      "Las herramientas basadas sobre Machine \n",
      "Learning han tomado fuerza desde hace varios \n",
      "años, impulsadas principalmente por el desarrollo \n",
      "de la computación, lo cual ha permitido mejorar \n",
      "los tiempos de cómputo y generar cada vez más\n",
      "----\n",
      "los tiempos de cómputo y generar cada vez más \n",
      "datos para ser analizados; al mismo tiempo que \n",
      "han mostrado alcanzar mejores resultados en \n",
      "comparación con otras opciones. Por ese \n",
      "motivo, este curso-taller hará una revisión sobre\n",
      "----\n",
      "motivo, este curso-taller hará una revisión sobre \n",
      "qué es Machine Learning, así como cuál es su \n",
      "relación y diferencia con otros conceptos \n",
      "similares; los cuales tienden a confundirse. \n",
      "Posteriormente se revisarán los modelos más\n",
      "----\n",
      "Posteriormente se revisarán los modelos más \n",
      "utilizados en la industria, identificando sus \n",
      "ventajas y limitaciones, como su correcta forma \n",
      "de ser utilizados, reconociendo las situaciones \n",
      "donde podría ser aplicado.\n",
      "INFORMACIÓN \n",
      "DEL CURSO\n",
      "2\n",
      "----\n",
      "HORARIO\n",
      "MODALIDAD A \n",
      "DISTANCIA \n",
      "CON CLASES \n",
      "EN VIVO\n",
      "3\n",
      "Aprenderás el desarrollo de un flujo de trabajo \n",
      "completo para la generación de modelos de Machine \n",
      "Learning, desde el pre-procesamiento de los datos de\n",
      "----\n",
      "Learning, desde el pre-procesamiento de los datos de \n",
      "entrada, entrenamiento de modelos de clasificación o \n",
      "regresión,  optimización de modelos, hasta la etapa de \n",
      "despliegue. El curso es teórico-práctico: en cada\n",
      "----\n",
      "despliegue. El curso es teórico-práctico: en cada \n",
      "sesión se presentan los fundamentos de las técnicas \n",
      "para luego realizar Implementaciones y aplicaciones \n",
      "prácticas en lenguaje Python.\n",
      "OBJETIVO DEL CURSO\n",
      "Sábados de \n",
      "9:00 am a 12:00 pm \n",
      "DURACIÓN\n",
      "----\n",
      "OBJETIVO DEL CURSO\n",
      "Sábados de \n",
      "9:00 am a 12:00 pm \n",
      "DURACIÓN\n",
      "24 horas\n",
      "----\n",
      "DIRIGIDO A\n",
      "Profesionales del sector público y privado, \n",
      "con especial énfasis en aquellos que realicen \n",
      "o deseen hacer análisis sobre diferentes \n",
      "cantidades de datos de diferente naturaleza, \n",
      "como por ejemplo economistas, estadísticos,\n",
      "----\n",
      "como por ejemplo economistas, estadísticos, \n",
      "ingenieros, administradores o profesionales \n",
      "de carreras afines dentro del ámbito de las \n",
      "tecnologías de la información y \n",
      "comunicación (TIC), entre otros.\n",
      "4\n",
      "¿POR QUÉ PUCP?\n",
      "----\n",
      "comunicación (TIC), entre otros.\n",
      "4\n",
      "¿POR QUÉ PUCP?\n",
      "Te ofrecemos formar parte de una gran \n",
      "comunidad académica  (Puesto 15 a nivel \n",
      "Latinoamérica en QS World University \n",
      "Rankings).\n",
      "----\n",
      "*El descuento de pronto pago aplica       \n",
      "hasta 03/03/2021\n",
      "DESCUENTOS\n",
      "Pronto pago Público en general: S/ 675*\n",
      "Pronto pago Comunidad PUCP: S/ 635*\n",
      "Tarifa corporativa Público en general\n",
      "(grupo de 3 personas c/u): S/ 710\n",
      "----\n",
      "Tarifa corporativa Público en general\n",
      "(grupo de 3 personas c/u): S/ 710\n",
      "Tarifa corporativa Comunidad PUCP\n",
      "(grupo de 3 personas c/u): S/ 655\n",
      "Público en general: S/ 750\n",
      "Comunidad PUCP: S/ 675\n",
      "INVERSIÓN\n",
      "5\n",
      "----\n",
      "Edwin Villanueva Talavera\n",
      "6\n",
      "DOCENTES\n",
      "Doctor en ciencias, magister de la Universidad de São Paulo en Ingeniería \n",
      "Eléctrica y computación, graduado en Ingeniería Electrónica por la UNSA.\n",
      "----\n",
      "Eléctrica y computación, graduado en Ingeniería Electrónica por la UNSA. \n",
      "Trabajó en instituciones públicas y privadas del Perú en los sectores de \n",
      "telecomunicaciones y desarrollo de software. Desde el 2017 se\n",
      "----\n",
      "telecomunicaciones y desarrollo de software. Desde el 2017 se \n",
      "desempeña como docente e investigador en el Grupo de Inteligencia \n",
      "Artificial (IA-PUCP), donde lidera proyectos de investigación y desarrollo\n",
      "----\n",
      "Artificial (IA-PUCP), donde lidera proyectos de investigación y desarrollo \n",
      "tecnológico con aplicación de técnicas de Inteligencia Artificial.\n",
      "Soledad Espezua Llerena\n",
      "Doctora en Ingeniería Eléctrica y Computación y Mg, Procesamiento de\n",
      "----\n",
      "Doctora en Ingeniería Eléctrica y Computación y Mg, Procesamiento de \n",
      "Señales e Instrumentación por la Universidad de São Paulo. Graduada en \n",
      "Ingeniería de Sistemas (UNSA). Trabajó en instituciones privadas como\n",
      "----\n",
      "Ingeniería de Sistemas (UNSA). Trabajó en instituciones privadas como \n",
      "desarrolladora de software. Docente de la PUCP del curso de Inteligencia \n",
      "Artificial. Investigadora del Grupo de Inteligencia Artificial (IA-PUCP).\n",
      "----\n",
      "Artificial. Investigadora del Grupo de Inteligencia Artificial (IA-PUCP). \n",
      "Especialista en Aprendizaje de máquina, Inteligencia Artificial, \n",
      "Computación Evolutiva, Procesamiento de Señales y Minería de datos.\n",
      "----\n",
      "7\n",
      "Introducción a Machine Learning \n",
      "Pre-procesamiento de Datos\n",
      "Ingeniería de Atributos\n",
      "Modelos Simples de Clasificación\n",
      "Modelos Simples de Regresión\n",
      "01\n",
      "02\n",
      "03\n",
      "04\n",
      "05\n",
      "TEMARIO\n",
      "Modelos Ensamblados 06\n",
      "Redes Neuronales07\n",
      "Afinamiento del Modelo y Despliegue08\n",
      "----\n",
      "8\n",
      "Contacto\n",
      "Leonardo Meza\n",
      "Teléfono\n",
      "6262854\n",
      "Whattsapp\n",
      "985043347\n",
      "Correo\n",
      "amezag@pucp.pe\n",
      "info.cetam@pucp.edu.pe\n",
      "----\n"
     ]
    }
   ],
   "source": [
    "for i in docs:\n",
    "    print(i.page_content)\n",
    "    print(\"----\")"
   ]
  },
  {
   "cell_type": "code",
   "execution_count": 13,
   "id": "6ddd0086",
   "metadata": {},
   "outputs": [
    {
     "name": "stderr",
     "output_type": "stream",
     "text": [
      "C:\\Users\\Hp\\AppData\\Local\\Temp\\ipykernel_3868\\3141230898.py:1: LangChainDeprecationWarning: The class `OllamaEmbeddings` was deprecated in LangChain 0.3.1 and will be removed in 1.0.0. An updated version of the class exists in the :class:`~langchain-ollama package and should be used instead. To use it run `pip install -U :class:`~langchain-ollama` and import as `from :class:`~langchain_ollama import OllamaEmbeddings``.\n",
      "  embeddings = OllamaEmbeddings(model=\"llama3.2\")\n"
     ]
    }
   ],
   "source": [
    "embeddings = OllamaEmbeddings(model=\"llama3.2\")\n",
    "vectorstore = Chroma.from_documents(\n",
    "    docs, embedding=embeddings)"
   ]
  },
  {
   "cell_type": "code",
   "execution_count": 47,
   "id": "d803b831",
   "metadata": {},
   "outputs": [],
   "source": [
    "chat = ChatOllama(model=\"llama3.2\",temperature=0)\n",
    "prompt = ChatPromptTemplate.from_messages([\n",
    "    (\"system\", \"Eres un asistente útil que ayuda a responder preguntas sobre el contenido de un documento.\"),\n",
    "    (\"human\",\"Pregunta: {question}\\n\\nContexto: {context}\")\n",
    "])\n",
    "def ollama_llm(question,context):\n",
    "    messages = prompt.format_messages(question=question,context=context)\n",
    "    response = chat.invoke(messages)\n",
    "    return response.content"
   ]
  },
  {
   "cell_type": "code",
   "execution_count": 42,
   "id": "a38c3ae4",
   "metadata": {},
   "outputs": [],
   "source": [
    "llm = Ollama(model=\"llama3.2\",temperature=0.7)\n",
    "prompt = PromptTemplate(\n",
    "    input_variables=[\"question\", \"context\"],\n",
    "    template=\"Pregunta: {question}\\n\\nContexto: {context}\\n\\nRespuesta:\"\n",
    ")\n",
    "def ollama_llm(question,context):\n",
    "    formatted_prompt = prompt.format(question=question,context=context)\n",
    "    response = llm.invoke(formatted_prompt)\n",
    "    return response"
   ]
  },
  {
   "cell_type": "code",
   "execution_count": 33,
   "id": "5bd351e4",
   "metadata": {},
   "outputs": [],
   "source": [
    "retriever = vectorstore.as_retriever(search_type=\"similarity\", search_kwargs={\"k\":4})\n",
    "def combine_docs(docs):\n",
    "    return \"\\n\\n\".join([doc.page_content for doc in docs])"
   ]
  },
  {
   "cell_type": "code",
   "execution_count": null,
   "id": "8ee5eec9",
   "metadata": {},
   "outputs": [
    {
     "name": "stdout",
     "output_type": "stream",
     "text": [
      "<class 'str'>\n"
     ]
    }
   ],
   "source": [
    "print(type(combine_docs(docs)))"
   ]
  },
  {
   "cell_type": "code",
   "execution_count": 31,
   "id": "d6f7d6ba",
   "metadata": {},
   "outputs": [],
   "source": [
    "# retriever.invoke(\"¿Qué es LangChain?\")\n",
    "contenido = [i.page_content for i in retriever.invoke(\"¿Qué vere en el curso?\")]\n"
   ]
  },
  {
   "cell_type": "code",
   "execution_count": 37,
   "id": "661a62f9",
   "metadata": {},
   "outputs": [
    {
     "data": {
      "text/plain": [
       "['como por ejemplo economistas, estadísticos, \\ningenieros, administradores o profesionales \\nde carreras afines dentro del ámbito de las \\ntecnologías de la información y \\ncomunicación (TIC), entre otros.\\n4\\n¿POR QUÉ PUCP?',\n",
       " 'comunicación (TIC), entre otros.\\n4\\n¿POR QUÉ PUCP?\\nTe ofrecemos formar parte de una gran \\ncomunidad académica  (Puesto 15 a nivel \\nLatinoamérica en QS World University \\nRankings).',\n",
       " 'Artificial. Investigadora del Grupo de Inteligencia Artificial (IA-PUCP). \\nEspecialista en Aprendizaje de máquina, Inteligencia Artificial, \\nComputación Evolutiva, Procesamiento de Señales y Minería de datos.']"
      ]
     },
     "execution_count": 37,
     "metadata": {},
     "output_type": "execute_result"
    }
   ],
   "source": [
    "contenido"
   ]
  },
  {
   "cell_type": "code",
   "execution_count": 48,
   "id": "9ac2e966",
   "metadata": {},
   "outputs": [],
   "source": [
    "def rag_chain(question):\n",
    "    retrieved_docs = retriever.invoke(question)\n",
    "    formatted_context = combine_docs(retrieved_docs)\n",
    "    return ollama_llm(question, formatted_context)"
   ]
  },
  {
   "cell_type": "code",
   "execution_count": 49,
   "id": "bd108d6d",
   "metadata": {},
   "outputs": [
    {
     "data": {
      "text/plain": [
       "'Según el documento, los horarios del curso son:\\n\\n* Sábados de 9:00 am a 12:00 pm.'"
      ]
     },
     "execution_count": 49,
     "metadata": {},
     "output_type": "execute_result"
    }
   ],
   "source": [
    "rag_chain(\"¿Cuales son los horarios del curso?\")"
   ]
  }
 ],
 "metadata": {
  "kernelspec": {
   "display_name": "Python 3",
   "language": "python",
   "name": "python3"
  },
  "language_info": {
   "codemirror_mode": {
    "name": "ipython",
    "version": 3
   },
   "file_extension": ".py",
   "mimetype": "text/x-python",
   "name": "python",
   "nbconvert_exporter": "python",
   "pygments_lexer": "ipython3",
   "version": "3.10.1"
  }
 },
 "nbformat": 4,
 "nbformat_minor": 5
}
