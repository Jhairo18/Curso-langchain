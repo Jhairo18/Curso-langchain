{
 "cells": [
  {
   "cell_type": "code",
   "execution_count": 23,
   "id": "caba0743",
   "metadata": {},
   "outputs": [],
   "source": [
    "from langchain_openai import ChatOpenAI\n",
    "from langchain_experimental.agents.agent_toolkits import create_pandas_dataframe_agent\n",
    "from langchain.agents.agent_types import AgentType\n",
    "from langchain.schema.output_parser import StrOutputParser\n",
    "from langchain.output_parsers import PandasDataFrameOutputParser\n",
    "from langchain.prompts import ChatPromptTemplate, PromptTemplate\n",
    "import pandas as pd\n",
    "import numpy as np\n",
    "from langchain.llms import OpenAI\n",
    "import openpyxl\n",
    "import os\n",
    "from dotenv import load_dotenv"
   ]
  },
  {
   "cell_type": "code",
   "execution_count": 24,
   "id": "ebc14d0f",
   "metadata": {},
   "outputs": [
    {
     "data": {
      "text/plain": [
       "True"
      ]
     },
     "execution_count": 24,
     "metadata": {},
     "output_type": "execute_result"
    }
   ],
   "source": [
    "load_dotenv()"
   ]
  },
  {
   "cell_type": "code",
   "execution_count": 27,
   "id": "46e2d247",
   "metadata": {},
   "outputs": [
    {
     "data": {
      "text/html": [
       "<div>\n",
       "<style scoped>\n",
       "    .dataframe tbody tr th:only-of-type {\n",
       "        vertical-align: middle;\n",
       "    }\n",
       "\n",
       "    .dataframe tbody tr th {\n",
       "        vertical-align: top;\n",
       "    }\n",
       "\n",
       "    .dataframe thead th {\n",
       "        text-align: right;\n",
       "    }\n",
       "</style>\n",
       "<table border=\"1\" class=\"dataframe\">\n",
       "  <thead>\n",
       "    <tr style=\"text-align: right;\">\n",
       "      <th></th>\n",
       "      <th>Nombre</th>\n",
       "      <th>Nota</th>\n",
       "      <th>Curso</th>\n",
       "    </tr>\n",
       "  </thead>\n",
       "  <tbody>\n",
       "    <tr>\n",
       "      <th>0</th>\n",
       "      <td>Jhairo</td>\n",
       "      <td>14</td>\n",
       "      <td>Matematica</td>\n",
       "    </tr>\n",
       "    <tr>\n",
       "      <th>1</th>\n",
       "      <td>Maria</td>\n",
       "      <td>12</td>\n",
       "      <td>Matematica</td>\n",
       "    </tr>\n",
       "    <tr>\n",
       "      <th>2</th>\n",
       "      <td>Milagros</td>\n",
       "      <td>15</td>\n",
       "      <td>Matematica</td>\n",
       "    </tr>\n",
       "    <tr>\n",
       "      <th>3</th>\n",
       "      <td>Ana</td>\n",
       "      <td>12</td>\n",
       "      <td>Matematica</td>\n",
       "    </tr>\n",
       "    <tr>\n",
       "      <th>4</th>\n",
       "      <td>Fabian</td>\n",
       "      <td>14</td>\n",
       "      <td>Matematica</td>\n",
       "    </tr>\n",
       "  </tbody>\n",
       "</table>\n",
       "</div>"
      ],
      "text/plain": [
       "     Nombre  Nota       Curso\n",
       "0    Jhairo    14  Matematica\n",
       "1     Maria    12  Matematica\n",
       "2  Milagros    15  Matematica\n",
       "3       Ana    12  Matematica\n",
       "4    Fabian    14  Matematica"
      ]
     },
     "execution_count": 27,
     "metadata": {},
     "output_type": "execute_result"
    }
   ],
   "source": [
    "df = pd.read_excel('files/notas.xlsx')\n",
    "df.head()"
   ]
  },
  {
   "cell_type": "code",
   "execution_count": 51,
   "id": "041e11c5",
   "metadata": {},
   "outputs": [],
   "source": [
    "llm = ChatOpenAI(temperature=0, model_name=\"gpt-3.5-turbo-16k\", verbose=True,streaming=True)"
   ]
  },
  {
   "cell_type": "code",
   "execution_count": null,
   "id": "71976438",
   "metadata": {},
   "outputs": [],
   "source": [
    "df_parser = PandasDataFrameOutputParser(dataframe=df)"
   ]
  },
  {
   "cell_type": "code",
   "execution_count": 41,
   "id": "fd8984ca",
   "metadata": {},
   "outputs": [
    {
     "name": "stdout",
     "output_type": "stream",
     "text": [
      "The output should be formatted as a string as the operation, followed by a colon, followed by the column or row to be queried on, followed by optional array parameters.\n",
      "1. The column names are limited to the possible columns below.\n",
      "2. Arrays must either be a comma-separated list of numbers formatted as [1,3,5], or it must be in range of numbers formatted as [0..4].\n",
      "3. Remember that arrays are optional and not necessarily required.\n",
      "4. If the column is not in the possible columns or the operation is not a valid Pandas DataFrame operation, return why it is invalid as a sentence starting with either \"Invalid column\" or \"Invalid operation\".\n",
      "\n",
      "As an example, for the formats:\n",
      "1. String \"column:num_legs\" is a well-formatted instance which gets the column num_legs, where num_legs is a possible column.\n",
      "2. String \"row:1\" is a well-formatted instance which gets row 1.\n",
      "3. String \"column:num_legs[1,2]\" is a well-formatted instance which gets the column num_legs for rows 1 and 2, where num_legs is a possible column.\n",
      "4. String \"row:1[num_legs]\" is a well-formatted instance which gets row 1, but for just column num_legs, where num_legs is a possible column.\n",
      "5. String \"mean:num_legs[1..3]\" is a well-formatted instance which takes the mean of num_legs from rows 1 to 3, where num_legs is a possible column and mean is a valid Pandas DataFrame operation.\n",
      "6. String \"do_something:num_legs\" is a badly-formatted instance, where do_something is not a valid Pandas DataFrame operation.\n",
      "7. String \"mean:invalid_col\" is a badly-formatted instance, where invalid_col is not a possible column.\n",
      "\n",
      "Here are the possible columns:\n",
      "```\n",
      "Nombre, Nota, Curso\n",
      "```\n",
      "\n"
     ]
    }
   ],
   "source": [
    "print(df_parser.get_format_instructions())"
   ]
  },
  {
   "cell_type": "code",
   "execution_count": 42,
   "id": "f2a3ee7d",
   "metadata": {},
   "outputs": [],
   "source": [
    "prompt = PromptTemplate(\n",
    "    template = \"Responde a la siguiente pregunta sobre el dataframe. {format_instructions}\\n{question}\",\n",
    "    input_variables=[\"question\"],\n",
    "    partial_variables={\"format_instructions\": df_parser.get_format_instructions()}\n",
    ")"
   ]
  },
  {
   "cell_type": "code",
   "execution_count": 52,
   "id": "5f78f4c4",
   "metadata": {},
   "outputs": [],
   "source": [
    "chain = prompt|llm|df_parser"
   ]
  },
  {
   "cell_type": "code",
   "execution_count": 63,
   "id": "6f216216",
   "metadata": {},
   "outputs": [
    {
     "data": {
      "text/plain": [
       "{'Nombre': 0       Jhairo\n",
       " 1        Maria\n",
       " 2     Milagros\n",
       " 3          Ana\n",
       " 4       Fabian\n",
       " 5      Fenecio\n",
       " 6        Carla\n",
       " 7       Jhairo\n",
       " 8        Maria\n",
       " 9     Milagros\n",
       " 10         Ana\n",
       " 11      Fabian\n",
       " 12     Fenecio\n",
       " 13       Carla\n",
       " Name: Nombre, dtype: object}"
      ]
     },
     "execution_count": 63,
     "metadata": {},
     "output_type": "execute_result"
    }
   ],
   "source": [
    "chain.invoke({\"question\": \"Dame la columna nombre\"})"
   ]
  },
  {
   "cell_type": "code",
   "execution_count": 78,
   "id": "15c55409",
   "metadata": {},
   "outputs": [
    {
     "data": {
      "text/plain": [
       "{'mean': np.float64(13.857142857142858)}"
      ]
     },
     "execution_count": 78,
     "metadata": {},
     "output_type": "execute_result"
    }
   ],
   "source": [
    "chain.invoke({\"question\": \"¿Cuál es la media de las notas?\"})"
   ]
  },
  {
   "cell_type": "code",
   "execution_count": 66,
   "id": "83b22aa0",
   "metadata": {},
   "outputs": [
    {
     "data": {
      "text/plain": [
       "np.float64(13.857142857142858)"
      ]
     },
     "execution_count": 66,
     "metadata": {},
     "output_type": "execute_result"
    }
   ],
   "source": [
    "df[\"Nota\"].mean()"
   ]
  },
  {
   "cell_type": "code",
   "execution_count": 71,
   "id": "2394d341",
   "metadata": {},
   "outputs": [],
   "source": [
    "pandas_df_agent = create_pandas_dataframe_agent(\n",
    "    llm,\n",
    "    df,\n",
    "    verbose=True,\n",
    "    allow_dangerous_code=True\n",
    ")\n"
   ]
  },
  {
   "cell_type": "code",
   "execution_count": 80,
   "id": "39795e9a",
   "metadata": {},
   "outputs": [
    {
     "name": "stdout",
     "output_type": "stream",
     "text": [
      "\n",
      "\n",
      "\u001b[1m> Entering new AgentExecutor chain...\u001b[0m\n",
      "\u001b[32;1m\u001b[1;3mThought: We need to filter the dataframe to only include the rows where the student is \"Jhairo\" and then select the \"Nota\" column.\n",
      "Action: python_repl_ast\n",
      "Action Input: df[df['Nombre'] == 'Jhairo']['Nota']\u001b[0m\u001b[36;1m\u001b[1;3m0    14\n",
      "7    16\n",
      "Name: Nota, dtype: int64\u001b[0m\u001b[32;1m\u001b[1;3mLas notas de Jhairo en Matemáticas son 14 y 16.\n",
      "Final Answer: Las notas de Jhairo en Matemáticas son 14 y 16.\u001b[0m\n",
      "\n",
      "\u001b[1m> Finished chain.\u001b[0m\n",
      "Las notas de Jhairo en Matemáticas son 14 y 16.\n"
     ]
    }
   ],
   "source": [
    "pandas_result = pandas_df_agent.run(\"Como son las notas de Jhairo por curso\")\n",
    "print(pandas_result)"
   ]
  },
  {
   "cell_type": "code",
   "execution_count": 83,
   "id": "33c8a525",
   "metadata": {},
   "outputs": [
    {
     "data": {
      "text/html": [
       "<div>\n",
       "<style scoped>\n",
       "    .dataframe tbody tr th:only-of-type {\n",
       "        vertical-align: middle;\n",
       "    }\n",
       "\n",
       "    .dataframe tbody tr th {\n",
       "        vertical-align: top;\n",
       "    }\n",
       "\n",
       "    .dataframe thead th {\n",
       "        text-align: right;\n",
       "    }\n",
       "</style>\n",
       "<table border=\"1\" class=\"dataframe\">\n",
       "  <thead>\n",
       "    <tr style=\"text-align: right;\">\n",
       "      <th></th>\n",
       "      <th>Nombre</th>\n",
       "      <th>Nota</th>\n",
       "      <th>Curso</th>\n",
       "    </tr>\n",
       "  </thead>\n",
       "  <tbody>\n",
       "    <tr>\n",
       "      <th>0</th>\n",
       "      <td>Jhairo</td>\n",
       "      <td>14</td>\n",
       "      <td>Matematica</td>\n",
       "    </tr>\n",
       "    <tr>\n",
       "      <th>7</th>\n",
       "      <td>Jhairo</td>\n",
       "      <td>16</td>\n",
       "      <td>Letras</td>\n",
       "    </tr>\n",
       "  </tbody>\n",
       "</table>\n",
       "</div>"
      ],
      "text/plain": [
       "   Nombre  Nota       Curso\n",
       "0  Jhairo    14  Matematica\n",
       "7  Jhairo    16      Letras"
      ]
     },
     "execution_count": 83,
     "metadata": {},
     "output_type": "execute_result"
    }
   ],
   "source": [
    "df[df[\"Nombre\"]==\"Jhairo\"]"
   ]
  }
 ],
 "metadata": {
  "kernelspec": {
   "display_name": "Python 3",
   "language": "python",
   "name": "python3"
  },
  "language_info": {
   "codemirror_mode": {
    "name": "ipython",
    "version": 3
   },
   "file_extension": ".py",
   "mimetype": "text/x-python",
   "name": "python",
   "nbconvert_exporter": "python",
   "pygments_lexer": "ipython3",
   "version": "3.10.1"
  }
 },
 "nbformat": 4,
 "nbformat_minor": 5
}
