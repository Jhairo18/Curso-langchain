{
 "cells": [
  {
   "cell_type": "code",
   "execution_count": 1,
   "id": "3a441ae7",
   "metadata": {},
   "outputs": [],
   "source": [
    "from langchain_openai.chat_models import ChatOpenAI\n",
    "from langchain_core.runnables import RunnableLambda, RunnableSequence, RunnablePassthrough, RunnableParallel\n",
    "from langchain.prompts import PromptTemplate\n",
    "from langchain.schema.output_parser import StrOutputParser\n",
    "from dotenv import load_dotenv"
   ]
  },
  {
   "cell_type": "code",
   "execution_count": 2,
   "id": "96f323d2",
   "metadata": {},
   "outputs": [
    {
     "data": {
      "text/plain": [
       "True"
      ]
     },
     "execution_count": 2,
     "metadata": {},
     "output_type": "execute_result"
    }
   ],
   "source": [
    "load_dotenv()  # Carga las variables de entorno desde el archivo .env"
   ]
  },
  {
   "cell_type": "markdown",
   "id": "9b7bc713",
   "metadata": {},
   "source": [
    "# RunnableLambda"
   ]
  },
  {
   "cell_type": "code",
   "execution_count": 3,
   "id": "d090ca90",
   "metadata": {},
   "outputs": [
    {
     "name": "stdout",
     "output_type": "stream",
     "text": [
      "6\n"
     ]
    }
   ],
   "source": [
    "def double(x):\n",
    "    return x*2\n",
    "runnable = RunnableLambda(double)\n",
    "print(runnable.invoke(3))  # Salida: 6"
   ]
  },
  {
   "cell_type": "code",
   "execution_count": 4,
   "id": "0ed1fea5",
   "metadata": {},
   "outputs": [
    {
     "name": "stdout",
     "output_type": "stream",
     "text": [
      "[2, 4, 6]\n"
     ]
    }
   ],
   "source": [
    "print(runnable.batch([1, 2, 3]))  # Salida: [2, 4, 6]"
   ]
  },
  {
   "cell_type": "code",
   "execution_count": 5,
   "id": "a7a3a5b5",
   "metadata": {},
   "outputs": [
    {
     "name": "stdout",
     "output_type": "stream",
     "text": [
      "6\n",
      "[2, 4, 6]\n"
     ]
    }
   ],
   "source": [
    "runnable = RunnableLambda(lambda x: x*2)\n",
    "print(runnable.invoke(3))  # Salida: 6\n",
    "print(runnable.batch([1, 2, 3]))  # Salida: [2, 4, 6]"
   ]
  },
  {
   "cell_type": "code",
   "execution_count": 7,
   "id": "91e86704",
   "metadata": {},
   "outputs": [
    {
     "data": {
      "text/plain": [
       "4"
      ]
     },
     "execution_count": 7,
     "metadata": {},
     "output_type": "execute_result"
    }
   ],
   "source": [
    "funcion = lambda x: x*2\n",
    "funcion(2)"
   ]
  },
  {
   "cell_type": "markdown",
   "id": "64b6abd3",
   "metadata": {},
   "source": [
    "# RunnableSequence"
   ]
  },
  {
   "cell_type": "code",
   "execution_count": 17,
   "id": "35098ab8",
   "metadata": {},
   "outputs": [
    {
     "name": "stdout",
     "output_type": "stream",
     "text": [
      "the-text-contains-3-words. This is a processed text.\n"
     ]
    }
   ],
   "source": [
    "def to_lowercase(text):\n",
    "    return text.lower()\n",
    "def replace_spaces(text):\n",
    "    return text.replace(\" \", \"-\")\n",
    "def summarize_text(text):\n",
    "    word_count = len(text.split())\n",
    "    return f\"The text contains {word_count} words.\"\n",
    "def append_note(text):\n",
    "    return f\"{text} This is a processed text.\"\n",
    "\n",
    "summarize_runnable = RunnableLambda(lambda x: summarize_text(x))\n",
    "replace_spaces_runnable = RunnableLambda(lambda x: replace_spaces(x))\n",
    "to_lowercase_runnable = RunnableLambda(lambda x: to_lowercase(x))\n",
    "append_note_runnable = RunnableLambda(lambda x: append_note(x))\n",
    "\n",
    "chain = RunnableSequence(\n",
    "    summarize_runnable,\n",
    "    replace_spaces_runnable,\n",
    "    to_lowercase_runnable,\n",
    "    append_note_runnable\n",
    ")\n",
    "input_data = \"Langchain is great\"\n",
    "result = chain.invoke(input_data)\n",
    "print(result)  # Salida: \"the-text-contains-3-words. this\n"
   ]
  },
  {
   "cell_type": "code",
   "execution_count": 18,
   "id": "7df4232b",
   "metadata": {},
   "outputs": [
    {
     "name": "stdout",
     "output_type": "stream",
     "text": [
      "the-text-contains-3-words. This is a processed text.\n"
     ]
    }
   ],
   "source": [
    "chain = summarize_runnable | replace_spaces_runnable | to_lowercase_runnable | append_note_runnable\n",
    "result = chain.invoke(input_data)\n",
    "print(result)  # Salida: \"the-text-contains-3-words. this"
   ]
  },
  {
   "cell_type": "code",
   "execution_count": 20,
   "id": "87a236a5",
   "metadata": {},
   "outputs": [
    {
     "name": "stdout",
     "output_type": "stream",
     "text": [
      "Langchain es una plataforma descentralizada que utiliza tecnología blockchain para conectar a los usuarios con traductores profesionales de todo el mundo. Los usuarios pueden solicitar servicios de traducción en tiempo real y pagar con la criptomoneda nativa de la plataforma, LANG. Los traductores son recompensados con LANG por sus servicios y pueden construir una reputación en la plataforma. Langchain busca revolucionar la industria de la traducción eliminando intermediarios y ofreciendo un servicio más rápido, seguro y económico.\n"
     ]
    }
   ],
   "source": [
    "def lower_case(text):\n",
    "    return text.lower()\n",
    "def replace_spaces(text):\n",
    "    return text.split(\"-\")[0]\n",
    "replace_spaces_runnable = RunnableLambda(lambda x: replace_spaces(x))\n",
    "lower_case_runnable = RunnableLambda(lambda x: lower_case(x))\n",
    "\n",
    "chain = RunnableSequence(replace_spaces_runnable, lower_case_runnable)\n",
    "prompt = PromptTemplate(\n",
    "    input_variables=[\"termino\"],\n",
    "    template=\"Dame un resumen de {termino}\")\n",
    "llm = ChatOpenAI(model=\"gpt-3.5-turbo\", temperature=0)\n",
    "full_chain = chain | prompt | llm | StrOutputParser()\n",
    "result = full_chain.invoke(\"langchain-es-god\")\n",
    "print(result)"
   ]
  }
 ],
 "metadata": {
  "kernelspec": {
   "display_name": "Python 3",
   "language": "python",
   "name": "python3"
  },
  "language_info": {
   "codemirror_mode": {
    "name": "ipython",
    "version": 3
   },
   "file_extension": ".py",
   "mimetype": "text/x-python",
   "name": "python",
   "nbconvert_exporter": "python",
   "pygments_lexer": "ipython3",
   "version": "3.10.1"
  }
 },
 "nbformat": 4,
 "nbformat_minor": 5
}
